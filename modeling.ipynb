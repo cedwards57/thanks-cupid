{
 "cells": [
  {
   "cell_type": "markdown",
   "metadata": {},
   "source": [
    "## Models"
   ]
  },
  {
   "cell_type": "markdown",
   "metadata": {},
   "source": [
    "We chose to use Naive Bayes, Decision Tree, and K Nearest Neighbors classifiers to predict our data."
   ]
  },
  {
   "cell_type": "code",
   "execution_count": 1,
   "metadata": {},
   "outputs": [],
   "source": [
    "from sklearn.naive_bayes import GaussianNB\n",
    "from sklearn.tree import DecisionTreeClassifier\n",
    "from sklearn.neighbors import KNeighborsClassifier\n",
    "\n",
    "def nb_model(x_train, x_test, y_train, y_test, var_smoothing=1e-9):\n",
    "    model = GaussianNB(var_smoothing=var_smoothing)\n",
    "    model.fit(x_train, y_train)\n",
    "    y_pred = model.predict_proba(x_test)[:,1]\n",
    "    score = model.score(x_test, y_test)\n",
    "    return y_pred, score\n",
    "\n",
    "def tree_model(x_train, x_test, y_train, y_test, max_depth=None, criterion='gini'):\n",
    "    model = DecisionTreeClassifier(max_depth=max_depth, criterion=criterion)\n",
    "    model.fit(x_train, y_train)\n",
    "    y_pred = model.predict_proba(x_test)[:,1]\n",
    "    score = model.score(x_test, y_test)\n",
    "    return y_pred, score\n",
    "\n",
    "\n",
    "def knn_model(x_train, x_test, y_train, y_test, weights='uniform', leaf_size=30, p=2):\n",
    "    model = KNeighborsClassifier(weights=weights, leaf_size=leaf_size, p=p)\n",
    "    model.fit(x_train, y_train)\n",
    "    y_pred = model.predict_proba(x_test)[:,1]\n",
    "    score = model.score(x_test, y_test)\n",
    "    return y_pred, score\n",
    "\n"
   ]
  },
  {
   "cell_type": "markdown",
   "metadata": {},
   "source": [
    "Data is split for training and testing."
   ]
  },
  {
   "cell_type": "code",
   "execution_count": 2,
   "metadata": {},
   "outputs": [],
   "source": [
    "import numpy as np\n",
    "import pandas as pd\n",
    "from sklearn.model_selection import train_test_split\n",
    "\n",
    "data = pd.read_csv('data/cupid_scientists_pp.csv')\n",
    "target = 'match'\n",
    "desc_features = list(data.columns)\n",
    "desc_features.remove(target)\n",
    "\n",
    "x = data[desc_features]\n",
    "y = data[target]\n",
    "\n",
    "x_train, x_test, y_train, y_test = train_test_split(x, y, test_size=.25, random_state=42)"
   ]
  },
  {
   "cell_type": "markdown",
   "metadata": {},
   "source": [
    "## Optimization"
   ]
  },
  {
   "cell_type": "markdown",
   "metadata": {},
   "source": [
    "### Hyperparameter Optimization (Grid Search with Accuracy Score)"
   ]
  },
  {
   "cell_type": "markdown",
   "metadata": {},
   "source": [
    "Log loss parameter was introdiced in scikit-learn version 1.1.2. If you encounter problems, please make sure your scikit-learn package is up to date before running this code. `pip install scikit-learn==1.1.3`"
   ]
  },
  {
   "cell_type": "code",
   "execution_count": 3,
   "metadata": {},
   "outputs": [
    {
     "name": "stdout",
     "output_type": "stream",
     "text": [
      "Maximum score 0.849544801149976 at depth 14 using entropy\n"
     ]
    }
   ],
   "source": [
    "def optimize_tree():\n",
    "    depths = []\n",
    "    crits = []\n",
    "    scores = []\n",
    "    for depth in [i for i in range(1,15)]:\n",
    "        for crit in ['gini', 'entropy', 'log_loss']:\n",
    "            _, score = tree_model(x_train, x_test, y_train, y_test, max_depth=depth, criterion=crit)\n",
    "            scores.append(score)\n",
    "            depths.append(depth)\n",
    "            crits.append(crit)\n",
    "    best = scores.index(max(scores))\n",
    "    print(f'Maximum score {scores[best]} at depth {depths[best]} using {crits[best]}')\n",
    "    return {\n",
    "        'max_depth': depths[best],\n",
    "        'criterion': crits[best]\n",
    "    }\n",
    "\n",
    "tree_params = optimize_tree()"
   ]
  },
  {
   "cell_type": "code",
   "execution_count": 4,
   "metadata": {},
   "outputs": [
    {
     "name": "stdout",
     "output_type": "stream",
     "text": [
      "Maximum score 0.8667944417824629 with weights distance, leaf size 10 and p=1\n"
     ]
    }
   ],
   "source": [
    "def optimize_knn():\n",
    "    weights = []\n",
    "    leaf_sizes = []\n",
    "    ps = []\n",
    "    scores = []\n",
    "    for weight in ['uniform', 'distance']:\n",
    "        for p in [1,2,3,4]:\n",
    "            for leaf_size in [10, 30, 50, 100]:\n",
    "                _, score = knn_model(x_train, x_test, y_train, y_test, weights=weight, leaf_size=leaf_size, p=p)\n",
    "                scores.append(score)\n",
    "                weights.append(weight)\n",
    "                leaf_sizes.append(leaf_size)\n",
    "                ps.append(p)\n",
    "    best = scores.index(max(scores))\n",
    "    print(f'Maximum score {scores[best]} with weights {weights[best]}, leaf size {leaf_sizes[best]} and p={ps[best]}')\n",
    "    return {\n",
    "        'weights': weights[best],\n",
    "        'leaf_size': leaf_sizes[best],\n",
    "        'p': ps[best]\n",
    "    }\n",
    "\n",
    "knn_params = optimize_knn()"
   ]
  },
  {
   "cell_type": "code",
   "execution_count": 5,
   "metadata": {},
   "outputs": [
    {
     "name": "stdout",
     "output_type": "stream",
     "text": [
      "Maximum score 0.8279827503593675 with smoothing 0.1\n"
     ]
    }
   ],
   "source": [
    "def optimize_nb():\n",
    "    smooths = []\n",
    "    scores = []\n",
    "    for smoothing in [1e-1, 1e-2, 1e-3, 1e-4, 1e-5, 1e-6, 1e-7, 1e-8, 1e-9, 1e-10, 1e-11]:\n",
    "        _, score = nb_model(x_train, x_test, y_train, y_test, var_smoothing=smoothing)\n",
    "        smooths.append(smoothing)\n",
    "        scores.append(score)\n",
    "    best = scores.index(max(scores))\n",
    "    print(f'Maximum score {scores[best]} with smoothing {smooths[best]}')\n",
    "    return {\n",
    "        'var_smoothing': smooths[best]\n",
    "    }\n",
    "\n",
    "nb_params = optimize_nb()"
   ]
  },
  {
   "cell_type": "markdown",
   "metadata": {},
   "source": [
    "## Evaluation"
   ]
  },
  {
   "cell_type": "markdown",
   "metadata": {},
   "source": [
    "Based on accuracy alone, the decision tree model seems capable of the best results. However, we wanted to dive deeper."
   ]
  },
  {
   "cell_type": "code",
   "execution_count": 6,
   "metadata": {},
   "outputs": [],
   "source": [
    "def binary_conf_matrix(observation, p_scores, threshold):\n",
    "    TP = 0\n",
    "    TN = 0\n",
    "    FP = 0\n",
    "    FN = 0\n",
    "    for i in range(len(observation)):\n",
    "        prediction = (1 if p_scores[i] >= threshold else 0)\n",
    "        tf = (True if prediction == observation[i] else False)\n",
    "        pn = (True if prediction == 1 else False)\n",
    "        if tf and pn:\n",
    "            TP += 1\n",
    "        if tf and not pn:\n",
    "            TN += 1\n",
    "        if not tf and pn:\n",
    "            FP += 1\n",
    "        if not tf and not pn:\n",
    "            FN += 1\n",
    "\n",
    "    out = {\n",
    "        'TP': TP,\n",
    "        'TN': TN,\n",
    "        'FP': FP,\n",
    "        'FN': FN\n",
    "    }\n",
    "    return out"
   ]
  },
  {
   "cell_type": "code",
   "execution_count": 7,
   "metadata": {},
   "outputs": [],
   "source": [
    "# percent of correct predictions\n",
    "def accuracy(observation, p_scores, threshold):\n",
    "    # (TP + TN) / (TP + TN + FP + FN)\n",
    "    scores = binary_conf_matrix(observation, p_scores, threshold)\n",
    "    out = scores['TP'] + scores['TN']\n",
    "    out /= (scores['TP'] + scores['TN'] + scores['FP'] + scores['FN'])\n",
    "    return out\n",
    "\n",
    "# percent of predicted positives that were correct\n",
    "def precision(observation, p_scores, threshold):\n",
    "    # TP / (TP + FP)\n",
    "    scores = binary_conf_matrix(observation, p_scores, threshold)\n",
    "    out = scores['TP']\n",
    "    out /= (scores['TP'] + scores['FP'])\n",
    "    return out\n",
    "\n",
    "# percent of real positives correctly predicted\n",
    "def recall(observation, p_scores, threshold):\n",
    "    # TP / (TP + FN)\n",
    "    scores = binary_conf_matrix(observation, p_scores, threshold)\n",
    "    out = scores['TP']\n",
    "    out /= (scores['TP'] + scores['FN'])\n",
    "    return out\n",
    "\n",
    "# f1 score\n",
    "def f1score(observation, p_scores, threshold):\n",
    "    # 2(precision * recall) / (precision + recall)\n",
    "    prec = precision(observation, p_scores, threshold)\n",
    "    rec = recall(observation, p_scores, threshold)\n",
    "    out = 2 * (prec * rec)\n",
    "    out /= (prec + rec)\n",
    "    return out"
   ]
  },
  {
   "cell_type": "code",
   "execution_count": 8,
   "metadata": {},
   "outputs": [],
   "source": [
    "# Hanssen-Kuipers Skill Score: How well the model separates matches from non-matches\n",
    "def tss(observation, p_scores, threshold):\n",
    "    # (TP / (TP + FN)) - (FP / (FP + TN))\n",
    "    scores = binary_conf_matrix(observation, p_scores, threshold)\n",
    "    first = scores['TP']\n",
    "    first /= (scores['TP'] + scores['FN'])\n",
    "    second = scores['FP']\n",
    "    second /= (scores['FP'] + scores['TN'])\n",
    "    out = first - second\n",
    "    return out\n",
    "\n",
    "# Gilbert Skill Score: How well predicted matches correspond to true matches, accounting for lucky random predictions\n",
    "def gss(observation, p_scores, threshold):\n",
    "    # random hits = ((TP + FN) * (TP + FP)) / (TP + FP + TN + FN)\n",
    "    # gss = (TP - random) / (TP + FN + FP - random)\n",
    "    scores = binary_conf_matrix(observation, p_scores, threshold)\n",
    "    hits_random = scores['TP'] + scores['FN']\n",
    "    hits_random *= (scores['TP'] + scores['FP'])\n",
    "    hits_random /= (scores['TP'] + scores['FP'] + scores['TN'] + scores['FN'])\n",
    "    out = scores['TP'] - hits_random\n",
    "    out /= (scores['TP'] + scores['FN'] + scores['FP'] - hits_random)\n",
    "    return out"
   ]
  },
  {
   "cell_type": "markdown",
   "metadata": {},
   "source": [
    "As another element of hyperparameter optimization, we can pick the best threshold for prediction to apply with our model."
   ]
  },
  {
   "cell_type": "code",
   "execution_count": 9,
   "metadata": {},
   "outputs": [],
   "source": [
    "# Pick best threshold based on a specific metric\n",
    "def pick_threshold(observation, p_scores, mfunc):\n",
    "    performances = []\n",
    "    for threshold in [i/100 for i in range(0,101)]:\n",
    "        try:\n",
    "            perf = mfunc(observation, p_scores, threshold)\n",
    "        except ZeroDivisionError: # encountered with FAR score\n",
    "            perf = -1\n",
    "        performances.append(perf)\n",
    "    best_index = performances.index(max(performances))\n",
    "    best_threshold = best_index / 100\n",
    "    return best_threshold\n",
    "\n",
    "def pick_threshold_all_metrics(observation, p_scores, mfuncs=[accuracy, f1score, tss, gss]):\n",
    "    # precision and recall not included because they will automatically bias towards thresholds of 0 and 1\n",
    "    thresholds = []\n",
    "    for mfunc in mfuncs:\n",
    "        threshold = pick_threshold(observation, p_scores, mfunc)\n",
    "        thresholds.append(threshold)\n",
    "    return thresholds"
   ]
  },
  {
   "cell_type": "code",
   "execution_count": 10,
   "metadata": {},
   "outputs": [],
   "source": [
    "def get_metrics(observation, p_scores, threshold):\n",
    "    metrics = {\n",
    "        'accuracy': accuracy(observation, p_scores, threshold),\n",
    "        'precision': precision(observation, p_scores, threshold),\n",
    "        'recall': recall(observation, p_scores, threshold),\n",
    "        'f1score': f1score(observation, p_scores, threshold),\n",
    "        'tss': tss(observation, p_scores, threshold),\n",
    "        'gss': gss(observation, p_scores, threshold),\n",
    "    }\n",
    "    return metrics"
   ]
  },
  {
   "cell_type": "markdown",
   "metadata": {},
   "source": [
    "Before even looking at the further metrics, we see that when given a threshold of 0.5, the Naive Bayes classifier is actually just getting its decent accuracy score by picking a negative match 100% of the time. This is definitely not what we want!\n",
    "\n",
    "However, even when selecting an optimum low threshold, our accuracy is around 63%. This is a poor accuracy compred to the other models below, and our other metrics are also much lower than the models that follow."
   ]
  },
  {
   "cell_type": "code",
   "execution_count": 11,
   "metadata": {},
   "outputs": [
    {
     "name": "stdout",
     "output_type": "stream",
     "text": [
      "Before selecting optimum threshold:\n",
      "{'TP': 0, 'TN': 1728, 'FP': 0, 'FN': 359}\n",
      "\n",
      "Selecting optimum threshold:\n",
      "[0.44, 0.16, 0.21, 0.23]\n",
      "Selected best threshold based on F1 Score, TSS, and GSS: 0.19999999999999998\n",
      "{'TP': 166, 'TN': 1150, 'FP': 578, 'FN': 193}\n",
      "{'accuracy': 0.6305701964542405, 'precision': 0.22311827956989247, 'recall': 0.4623955431754875, 'f1score': 0.3009972801450589, 'tss': 0.12790480243474672, 'gss': 0.04699414779353278}\n"
     ]
    }
   ],
   "source": [
    "p_scores, score = nb_model(x_train, x_test, y_train, y_test, **nb_params)\n",
    "# print(pick_threshold_all_metrics(y_test, p_scores))\n",
    "\n",
    "print('Before selecting optimum threshold:')\n",
    "print(binary_conf_matrix(list(y_test), p_scores, 0.5))\n",
    "\n",
    "print('\\nSelecting optimum threshold:')\n",
    "thresholds = pick_threshold_all_metrics(list(y_test), p_scores)\n",
    "print(thresholds)\n",
    "\n",
    "avg_best_thresh = (thresholds[1] + thresholds[2] + thresholds[3]) / 3\n",
    "print(f'Selected best threshold based on F1 Score, TSS, and GSS: {avg_best_thresh}')\n",
    "\n",
    "nb_matrix = binary_conf_matrix(list(y_test), p_scores, avg_best_thresh)\n",
    "print(nb_matrix)\n",
    "\n",
    "nb_metrics = get_metrics(list(y_test), p_scores, avg_best_thresh)\n",
    "print(nb_metrics)"
   ]
  },
  {
   "cell_type": "markdown",
   "metadata": {},
   "source": [
    "The decision tree's scores look much better and much more robust.\n",
    "\n",
    "Asking for the best threshold per metric usually returns `[0.67, 0.29, 0.12, 0.41]` (sometimes these numbers are slightly different, depending on the parameters selected above, but the last 3 generally average around 0.28 altogether). The high first number is when tested with accuracy; because this dataset has far more failed matches than successful ones, so pure accuracy would be biased towards the negative result (high threshold). However, the other three favor a lower threshold, so that's what we consider for the threshold for the following metrics.\n",
    "\n",
    "With this, we retain good accuracy (around 0.80) while having high other metrics. Additionally, we are more biased towards positive matches, which is a good thing -- we would prefer to have a possible match to show a user than not have anything to show at all when someone uses this app."
   ]
  },
  {
   "cell_type": "code",
   "execution_count": 12,
   "metadata": {},
   "outputs": [
    {
     "name": "stdout",
     "output_type": "stream",
     "text": [
      "[0.67, 0.29, 0.12, 0.41]\n",
      "Selected best threshold based on F1 Score, TSS, and GSS: 0.2733333333333333\n",
      "{'TP': 155, 'TN': 1499, 'FP': 229, 'FN': 204}\n",
      "{'accuracy': 0.7925251557259224, 'precision': 0.4036458333333333, 'recall': 0.43175487465181056, 'f1score': 0.4172274562584118, 'tss': 0.2992317265036624, 'gss': 0.17041127329477648}\n"
     ]
    }
   ],
   "source": [
    "p_scores, score = tree_model(x_train, x_test, y_train, y_test, **tree_params)\n",
    "\n",
    "thresholds = pick_threshold_all_metrics(list(y_test), p_scores)\n",
    "print(thresholds)\n",
    "\n",
    "avg_best_thresh = (thresholds[1] + thresholds[2] + thresholds[3]) / 3\n",
    "print(f'Selected best threshold based on F1 Score, TSS, and GSS: {avg_best_thresh}')\n",
    "\n",
    "tree_matrix = binary_conf_matrix(list(y_test), p_scores, avg_best_thresh)\n",
    "print(tree_matrix)\n",
    "\n",
    "tree_metrics = get_metrics(list(y_test), p_scores, avg_best_thresh)\n",
    "print(tree_metrics)"
   ]
  },
  {
   "cell_type": "markdown",
   "metadata": {},
   "source": [
    "The K Neighbors model has similarly robust results, but with even higher metrics. With an optimum threshold of about 0.35 and an accuracy around 0.85, this is the model we recommend to our client for this app."
   ]
  },
  {
   "cell_type": "code",
   "execution_count": 13,
   "metadata": {},
   "outputs": [
    {
     "name": "stdout",
     "output_type": "stream",
     "text": [
      "[0.42, 0.42, 0.21, 0.42]\n",
      "Selected best threshold based on F1 Score, TSS, and GSS: 0.35000000000000003\n",
      "{'TP': 232, 'TN': 1534, 'FP': 194, 'FN': 127}\n",
      "{'accuracy': 0.8461907043603258, 'precision': 0.5446009389671361, 'recall': 0.6462395543175488, 'f1score': 0.5910828025477708, 'tss': 0.5339710357990303, 'gss': 0.3308605771007524}\n"
     ]
    }
   ],
   "source": [
    "p_scores, score = knn_model(x_train, x_test, y_train, y_test, **knn_params)\n",
    "\n",
    "thresholds = pick_threshold_all_metrics(list(y_test), p_scores)\n",
    "print(thresholds)\n",
    "\n",
    "avg_best_thresh = (thresholds[1] + thresholds[2] + thresholds[3]) / 3\n",
    "print(f'Selected best threshold based on F1 Score, TSS, and GSS: {avg_best_thresh}')\n",
    "\n",
    "knn_matrix = binary_conf_matrix(list(y_test), p_scores, avg_best_thresh)\n",
    "print(knn_matrix)\n",
    "\n",
    "knn_metrics = get_metrics(list(y_test), p_scores, avg_best_thresh)\n",
    "print(knn_metrics)"
   ]
  },
  {
   "cell_type": "markdown",
   "metadata": {},
   "source": [
    "## Graphing results"
   ]
  },
  {
   "cell_type": "code",
   "execution_count": 14,
   "metadata": {},
   "outputs": [],
   "source": [
    "import seaborn as sns\n",
    "import matplotlib.pyplot as plt\n",
    "\n",
    "def view_matrix(matrix, model):\n",
    "    d = {\n",
    "        'Actual Positive': [matrix['TP'], matrix['FN']],\n",
    "        'Actual Negative': [matrix['FP'], matrix['TN']]\n",
    "    }\n",
    "    ind = ['Predicted Positive', 'Predicted Negative']\n",
    "    df = pd.DataFrame(d, index=ind)\n",
    "    print(model)\n",
    "    display(df)\n",
    "\n",
    "def graph_difference(all_scores, metric):\n",
    "    # palette = ['#efb6dc','#e56ebe','#d30b91']\n",
    "    color = '#d30b91'\n",
    "    title = (metric[0].upper() + metric[1:] if metric not in ['tss', 'gss'] else metric.upper())\n",
    "    labels = ['Naive Bayes', 'Decision Tree', 'K Nearest Neighbors']\n",
    "    scores = [round(i[metric],2) for i in all_scores]\n",
    "    data = {\n",
    "        labels[i]: [scores[i]] for i in range(len(labels))\n",
    "    }\n",
    "    df = pd.DataFrame(data, index=[title])\n",
    "    plt.title(title)\n",
    "    plt.ylim(0,1)\n",
    "    ax = sns.barplot(data=df, color=color)\n",
    "    for i in ax.containers:\n",
    "        ax.bar_label(i,)\n",
    "    plt.savefig(f'figs/eval/{metric}')\n",
    "    plt.show()\n",
    "    plt.close()"
   ]
  },
  {
   "cell_type": "code",
   "execution_count": 15,
   "metadata": {},
   "outputs": [
    {
     "name": "stdout",
     "output_type": "stream",
     "text": [
      "Naive Bayes\n"
     ]
    },
    {
     "data": {
      "text/html": [
       "<div>\n",
       "<style scoped>\n",
       "    .dataframe tbody tr th:only-of-type {\n",
       "        vertical-align: middle;\n",
       "    }\n",
       "\n",
       "    .dataframe tbody tr th {\n",
       "        vertical-align: top;\n",
       "    }\n",
       "\n",
       "    .dataframe thead th {\n",
       "        text-align: right;\n",
       "    }\n",
       "</style>\n",
       "<table border=\"1\" class=\"dataframe\">\n",
       "  <thead>\n",
       "    <tr style=\"text-align: right;\">\n",
       "      <th></th>\n",
       "      <th>Actual Positive</th>\n",
       "      <th>Actual Negative</th>\n",
       "    </tr>\n",
       "  </thead>\n",
       "  <tbody>\n",
       "    <tr>\n",
       "      <th>Predicted Positive</th>\n",
       "      <td>166</td>\n",
       "      <td>578</td>\n",
       "    </tr>\n",
       "    <tr>\n",
       "      <th>Predicted Negative</th>\n",
       "      <td>193</td>\n",
       "      <td>1150</td>\n",
       "    </tr>\n",
       "  </tbody>\n",
       "</table>\n",
       "</div>"
      ],
      "text/plain": [
       "                    Actual Positive  Actual Negative\n",
       "Predicted Positive              166              578\n",
       "Predicted Negative              193             1150"
      ]
     },
     "metadata": {},
     "output_type": "display_data"
    },
    {
     "name": "stdout",
     "output_type": "stream",
     "text": [
      "Decision Tree\n"
     ]
    },
    {
     "data": {
      "text/html": [
       "<div>\n",
       "<style scoped>\n",
       "    .dataframe tbody tr th:only-of-type {\n",
       "        vertical-align: middle;\n",
       "    }\n",
       "\n",
       "    .dataframe tbody tr th {\n",
       "        vertical-align: top;\n",
       "    }\n",
       "\n",
       "    .dataframe thead th {\n",
       "        text-align: right;\n",
       "    }\n",
       "</style>\n",
       "<table border=\"1\" class=\"dataframe\">\n",
       "  <thead>\n",
       "    <tr style=\"text-align: right;\">\n",
       "      <th></th>\n",
       "      <th>Actual Positive</th>\n",
       "      <th>Actual Negative</th>\n",
       "    </tr>\n",
       "  </thead>\n",
       "  <tbody>\n",
       "    <tr>\n",
       "      <th>Predicted Positive</th>\n",
       "      <td>155</td>\n",
       "      <td>229</td>\n",
       "    </tr>\n",
       "    <tr>\n",
       "      <th>Predicted Negative</th>\n",
       "      <td>204</td>\n",
       "      <td>1499</td>\n",
       "    </tr>\n",
       "  </tbody>\n",
       "</table>\n",
       "</div>"
      ],
      "text/plain": [
       "                    Actual Positive  Actual Negative\n",
       "Predicted Positive              155              229\n",
       "Predicted Negative              204             1499"
      ]
     },
     "metadata": {},
     "output_type": "display_data"
    },
    {
     "name": "stdout",
     "output_type": "stream",
     "text": [
      "K Nearest Neighbors\n"
     ]
    },
    {
     "data": {
      "text/html": [
       "<div>\n",
       "<style scoped>\n",
       "    .dataframe tbody tr th:only-of-type {\n",
       "        vertical-align: middle;\n",
       "    }\n",
       "\n",
       "    .dataframe tbody tr th {\n",
       "        vertical-align: top;\n",
       "    }\n",
       "\n",
       "    .dataframe thead th {\n",
       "        text-align: right;\n",
       "    }\n",
       "</style>\n",
       "<table border=\"1\" class=\"dataframe\">\n",
       "  <thead>\n",
       "    <tr style=\"text-align: right;\">\n",
       "      <th></th>\n",
       "      <th>Actual Positive</th>\n",
       "      <th>Actual Negative</th>\n",
       "    </tr>\n",
       "  </thead>\n",
       "  <tbody>\n",
       "    <tr>\n",
       "      <th>Predicted Positive</th>\n",
       "      <td>232</td>\n",
       "      <td>194</td>\n",
       "    </tr>\n",
       "    <tr>\n",
       "      <th>Predicted Negative</th>\n",
       "      <td>127</td>\n",
       "      <td>1534</td>\n",
       "    </tr>\n",
       "  </tbody>\n",
       "</table>\n",
       "</div>"
      ],
      "text/plain": [
       "                    Actual Positive  Actual Negative\n",
       "Predicted Positive              232              194\n",
       "Predicted Negative              127             1534"
      ]
     },
     "metadata": {},
     "output_type": "display_data"
    }
   ],
   "source": [
    "for matrix, model in zip([nb_matrix, tree_matrix, knn_matrix],['Naive Bayes', 'Decision Tree', 'K Nearest Neighbors']):\n",
    "    view_matrix(matrix, model)"
   ]
  },
  {
   "cell_type": "code",
   "execution_count": 16,
   "metadata": {},
   "outputs": [
    {
     "data": {
      "image/png": "[encoded data removed]",
      "text/plain": [
       "<Figure size 432x288 with 1 Axes>"
      ]
     },
     "metadata": {
      "needs_background": "light"
     },
     "output_type": "display_data"
    },
    {
     "data": {
      "image/png": "[encoded data removed]",
      "text/plain": [
       "<Figure size 432x288 with 1 Axes>"
      ]
     },
     "metadata": {
      "needs_background": "light"
     },
     "output_type": "display_data"
    },
    {
     "data": {
      "image/png": "[encoded data removed]",
      "text/plain": [
       "<Figure size 432x288 with 1 Axes>"
      ]
     },
     "metadata": {
      "needs_background": "light"
     },
     "output_type": "display_data"
    },
    {
     "data": {
      "image/png": "[encoded data removed]",
      "text/plain": [
       "<Figure size 432x288 with 1 Axes>"
      ]
     },
     "metadata": {
      "needs_background": "light"
     },
     "output_type": "display_data"
    },
    {
     "data": {
      "image/png": "[encoded data removed]",
      "text/plain": [
       "<Figure size 432x288 with 1 Axes>"
      ]
     },
     "metadata": {
      "needs_background": "light"
     },
     "output_type": "display_data"
    },
    {
     "data": {
      "image/png": "[encoded data removed]",
      "text/plain": [
       "<Figure size 432x288 with 1 Axes>"
      ]
     },
     "metadata": {
      "needs_background": "light"
     },
     "output_type": "display_data"
    }
   ],
   "source": [
    "for metric in ['accuracy', 'precision', 'recall', 'f1score', 'gss', 'tss']:\n",
    "    graph_difference([nb_metrics, tree_metrics, knn_metrics], metric)"
   ]
  }
 ],
 "metadata": {
  "kernelspec": {
   "display_name": "Python 3.8.10 64-bit",
   "language": "python",
   "name": "python3"
  },
  "language_info": {
   "codemirror_mode": {
    "name": "ipython",
    "version": 3
   },
   "file_extension": ".py",
   "mimetype": "text/x-python",
   "name": "python",
   "nbconvert_exporter": "python",
   "pygments_lexer": "ipython3",
   "version": "3.8.10"
  },
  "orig_nbformat": 4,
  "vscode": {
   "interpreter": {
    "hash": "916dbcbb3f70747c44a77c7bcd40155683ae19c65e1c03b4aa3499c5328201f1"
   }
  }
 },
 "nbformat": 4,
 "nbformat_minor": 2
}
